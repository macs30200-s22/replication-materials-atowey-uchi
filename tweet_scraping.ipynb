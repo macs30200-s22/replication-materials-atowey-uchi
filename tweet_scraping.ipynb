{
 "cells": [
  {
   "cell_type": "code",
   "execution_count": 5,
   "id": "f7bed9a8",
   "metadata": {},
   "outputs": [
    {
     "name": "stdout",
     "output_type": "stream",
     "text": [
      "Requirement already satisfied: Twint in /Users/allisontowey/.local/lib/python3.8/site-packages (2.1.21)\n",
      "\u001b[31mERROR: Could not find a version that satisfies the requirement as (from versions: none)\u001b[0m\n",
      "\u001b[31mERROR: No matching distribution found for as\u001b[0m\n",
      "Requirement already satisfied: nest_asyncio in /Users/allisontowey/opt/anaconda3/lib/python3.8/site-packages (1.5.1)\n"
     ]
    }
   ],
   "source": [
    "! pip install Twint as twint\n",
    "! pip install nest_asyncio"
   ]
  },
  {
   "cell_type": "code",
   "execution_count": 7,
   "id": "f5863df9",
   "metadata": {},
   "outputs": [],
   "source": [
    "import twint\n",
    "import pandas as pd\n",
    "import nest_asyncio\n",
    "nest_asyncio.apply()"
   ]
  },
  {
   "cell_type": "markdown",
   "id": "00f8d649",
   "metadata": {},
   "source": [
    "After loading the packages needed, we can set up and configure the scrape of the tweets in our intended date range. We output this data to tweets.csv."
   ]
  },
  {
   "cell_type": "code",
   "execution_count": 8,
   "id": "4353dc4b",
   "metadata": {},
   "outputs": [
    {
     "name": "stdout",
     "output_type": "stream",
     "text": [
      "1443002554628157442 2021-09-28 18:59:53 -0500 <RoadWarriorsUSA> ... things that should make everyone go hmmmmmm  'only for countries in Europe who are part of the European Union (EU), which comprises 27 countries.'  #Ivermectin #IvermectinWarriors  https://t.co/80hUNyeYbM\n",
      "1443002514333388802 2021-09-28 18:59:43 -0500 <rickpryll> Studies show that Ivermectin might also be a cure for stupidity.\n",
      "1443002510206066694 2021-09-28 18:59:42 -0500 <pitbullgurl38> @tashalizzie @MollyJongFast Zimecterin Gold has ivermectin plus something else, and the antivaxers haven't started taking that one yet so it's usually available. Way more expensive though.\n",
      "1443002283298414592 2021-09-28 18:58:48 -0500 <TockTick1776> This is the official clinical management protocol for COVID-19 issued by the Government of India 🧐  https://t.co/ASa4s4Hl2X Israel pop. fully vaccinated = 63.91% India pop. fully vaccinated = 16.09% #Ivermectin #Ivermectinworks #IvermectinSavesLives  https://t.co/Q5RkJNljZM\n",
      "1443002256111120384 2021-09-28 18:58:42 -0500 <DwightW55803977> The tyrannical behavior from this administration should not be  https://t.co/L5TKW3Gcof should not be left  https://t.co/ERTA1Bf3Tn needs to be addressed. Stop the eua. Ivermectin works. Stop the vaccine. Stop listening to the fear mongering lying media.stand up America.\n",
      "1443002231138123779 2021-09-28 18:58:36 -0500 <DonUnofficial> @RNCResearch Republicans measure GDP by counting dead people. RED STATES WIN! #RedCovid #Ivermectin #Hoax #Contained  https://t.co/CAmKSkb9ni\n",
      "1443002229921914886 2021-09-28 18:58:35 -0500 <HealthCareRenew> [Follow the money] Network of right-wing health care providers is making millions off hydroxychloroquine and ivermectin, hacked data reveals [and find out who else profits from pandemic disinformation]  https://t.co/mja2EAEQ74\n",
      "1443002227229007877 2021-09-28 18:58:35 -0500 <dluxmaroon> 2 dead after taking ivermectin in New Mexico  https://t.co/cbkJGzVfQX\n",
      "1443002194962223109 2021-09-28 18:58:27 -0500 <Smackenziekerr> Pfizer has announced that it will begin Phase 2/3 trials of COVID prophylaxis.  Coincidentally (or not), Pfizer's drugs share at least one mechanism of action as ivermectin.  Pfizer's new drug is jokingly called \"Pfizer Mectin\".\n",
      "1443002187987050501 2021-09-28 18:58:25 -0500 <Amontanamom> @knowdobetter So how's it going to be when she's out regularly with long term covid? I've not met many people who have had it bad (enough to go to ER) that haven't had issues for weeks, even months. Selfish. She'll take ivermectin but not the vaccine. I have nothing left to give if she dies.\n",
      "1443002122258329603 2021-09-28 18:58:10 -0500 <SimonLite> ivermectin abd'de iki kişinin ölümüne neden olmuş.  https://t.co/yv66qfLHO8\n",
      "1443002114939265026 2021-09-28 18:58:08 -0500 <NikkiDec5> Ivermectin you say ?         https://t.co/ecu895GxHJ\n",
      "1443002103794790409 2021-09-28 18:58:05 -0500 <mharris127> @SethFromThe716 Thankfully we haven't had to resort to mass graves due to COVID in the States yet but with low \"Fauci Ouchie\" rates combined with the ivermectin, hydroxychloroquine and bleach suggestions by Trumpians it could happen yet.  1/2\n",
      "1443002056411844612 2021-09-28 18:57:54 -0500 <Texanfan> @psocialbuterfly We have the It’s A Hoax wing, the Ivermectin wing and the Hydroxychloroquine wing. The I Should Have Been Vaccinated wing is full.\n",
      "1443002014447771650 2021-09-28 18:57:44 -0500 <civex> 2/ ... 'Ivermectin may potentiate the effects of other drugs that cause central nervous system depression such as benzodiazepines and barbiturates.'\n",
      "1443001988241715204 2021-09-28 18:57:38 -0500 <SkB0Tm> I was using Scot's Grubex. I had grubs and now I don't.  I'm not a doctor, but it seems that it should work well on Covid.  Don't tell #MAGA til it passes FDA. Don't tell them about the Moldova studies.  #Ivermectin #IvermectinWarriors #HydroxyChloroquine #IvermectinSavedMyLife\n",
      "[!] No more data! Scraping will stop now.\n",
      "found 0 deleted tweets in this search.\n",
      "[+] Finished: Successfully collected 16 Tweets.\n"
     ]
    }
   ],
   "source": [
    "c = twint.Config()\n",
    "c.Search = \"ivermectin\"\n",
    "c.Since = \"2021-08-01\"\n",
    "c.Until = \"2021-09-30\"\n",
    "c.Hide_output = False\n",
    "c.Count = True\n",
    "c.Store_csv = True\n",
    "c.Output = \"tweets.csv\"\n",
    "twint.run.Search(c)"
   ]
  },
  {
   "cell_type": "code",
   "execution_count": null,
   "id": "18308c1e",
   "metadata": {},
   "outputs": [],
   "source": [
    "df = pd.read_csv(\"tweets.csv\")"
   ]
  }
 ],
 "metadata": {
  "kernelspec": {
   "display_name": "Python 3",
   "language": "python",
   "name": "python3"
  },
  "language_info": {
   "codemirror_mode": {
    "name": "ipython",
    "version": 3
   },
   "file_extension": ".py",
   "mimetype": "text/x-python",
   "name": "python",
   "nbconvert_exporter": "python",
   "pygments_lexer": "ipython3",
   "version": "3.6.13"
  }
 },
 "nbformat": 4,
 "nbformat_minor": 5
}
